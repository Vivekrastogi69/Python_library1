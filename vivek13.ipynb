{
 "cells": [
  {
   "cell_type": "markdown",
   "id": "4758ef72-f525-48f2-be71-d305ea9229c0",
   "metadata": {},
   "source": [
    "# Numpy part 2"
   ]
  },
  {
   "cell_type": "markdown",
   "id": "20cc9557-d738-41ec-bd07-f765b3c9f275",
   "metadata": {},
   "source": [
    "# Day 13"
   ]
  },
  {
   "cell_type": "markdown",
   "id": "8ceb510e-bfe9-4fb0-a151-6627e39ee859",
   "metadata": {},
   "source": [
    "SLICING OF NUMPY ARRAY"
   ]
  },
  {
   "cell_type": "code",
   "execution_count": 10,
   "id": "6ba7dc8d-81b3-4458-bf49-313dd18ba8db",
   "metadata": {},
   "outputs": [],
   "source": [
    "import numpy as np"
   ]
  },
  {
   "cell_type": "code",
   "execution_count": 12,
   "id": "173bc2ac-5ea6-42f0-a820-6c6cff519e49",
   "metadata": {},
   "outputs": [
    {
     "name": "stdout",
     "output_type": "stream",
     "text": [
      "[ 1 34 54]\n"
     ]
    }
   ],
   "source": [
    "arr = np.array([1,34,54,67,34,11])\n",
    "print(arr[0:3])"
   ]
  },
  {
   "cell_type": "code",
   "execution_count": 14,
   "id": "0ea788ba-2980-4754-a3b7-f2ae8cc26ffd",
   "metadata": {},
   "outputs": [
    {
     "name": "stdout",
     "output_type": "stream",
     "text": [
      "[ 1 54 34 44 89]\n"
     ]
    }
   ],
   "source": [
    "arr = np.array([1,34,54,67,34,11,44,87,89,90])\n",
    "print(arr[0:9:2])"
   ]
  },
  {
   "cell_type": "markdown",
   "id": "6f542313-36b3-4bbb-a207-243ca4ddde65",
   "metadata": {},
   "source": [
    "# Slicing in 2D arrays"
   ]
  },
  {
   "cell_type": "code",
   "execution_count": 25,
   "id": "dd9731b9-a327-4f91-9c81-0dd73f582918",
   "metadata": {},
   "outputs": [
    {
     "name": "stdout",
     "output_type": "stream",
     "text": [
      "[44 55]\n"
     ]
    }
   ],
   "source": [
    "arr = np.array([[12,32,44,33,23,45,65,89],[121,33,44,55,66,77,88,90]])\n",
    "print(arr[1,2:4])"
   ]
  },
  {
   "cell_type": "code",
   "execution_count": 27,
   "id": "c7d05d0d-7741-440d-9680-2f529629511c",
   "metadata": {},
   "outputs": [
    {
     "name": "stdout",
     "output_type": "stream",
     "text": [
      "[12 32 44 33]\n"
     ]
    }
   ],
   "source": [
    "arr = np.array([[12,32,44,33,23,45,65,89],[121,33,44,55,66,77,88,90]])\n",
    "print(arr[0,0:4])"
   ]
  },
  {
   "cell_type": "markdown",
   "id": "3d33817c-c2b3-4ff7-8474-b0fd290f5cb4",
   "metadata": {},
   "source": [
    "# numpy part 2 staet"
   ]
  },
  {
   "cell_type": "markdown",
   "id": "a584c57f-c7a8-4efd-b3b8-27cf53647fe9",
   "metadata": {},
   "source": [
    "data type in python by default python have these data types:\n",
    "\n",
    "sting,integer,boolean,float"
   ]
  },
  {
   "cell_type": "code",
   "execution_count": null,
   "id": "6b0df7c6-e6f9-4b97-8fcd-4d8b8d91b1b7",
   "metadata": {},
   "outputs": [],
   "source": [
    "Data type in numpy \n",
    "\n",
    "numpy has some extera data type, ard refer to data type with one character, list of these\n",
    "\n",
    "i= integer\n",
    "b= boolean\n",
    "u = unsigned integer\n",
    "f = float\n",
    "c = complex float\n",
    "m = timedelta\n",
    "M = datetime \n",
    "o = object\n",
    "s = string\n",
    "U = unicode string\n",
    "v = fixed chuck of memory for other type (void)"
   ]
  },
  {
   "cell_type": "markdown",
   "id": "3b1064f3-6a22-41db-8cd6-d4fe801e3f5b",
   "metadata": {},
   "source": [
    "# check the data type of an array"
   ]
  },
  {
   "cell_type": "code",
   "execution_count": 32,
   "id": "c5ba8175-31fd-4e4b-8ed5-705a4cc26e72",
   "metadata": {},
   "outputs": [],
   "source": [
    "import numpy as np"
   ]
  },
  {
   "cell_type": "code",
   "execution_count": 34,
   "id": "1e8cd1e9-3143-4499-8c0f-5571c7fe43d4",
   "metadata": {},
   "outputs": [
    {
     "name": "stdout",
     "output_type": "stream",
     "text": [
      "int32\n"
     ]
    }
   ],
   "source": [
    "arr = np.array([12,44,54,67,88,90])\n",
    "print(arr.dtype)"
   ]
  },
  {
   "cell_type": "code",
   "execution_count": 36,
   "id": "51886634-4397-4da6-9d2f-112430862209",
   "metadata": {},
   "outputs": [
    {
     "name": "stdout",
     "output_type": "stream",
     "text": [
      "<U32\n"
     ]
    }
   ],
   "source": [
    "arr = np.array([\"vivek\",True ,\"rastogi\",12,34.5])\n",
    "print(arr.dtype)"
   ]
  },
  {
   "cell_type": "code",
   "execution_count": 40,
   "id": "c6a9f0d9-0b9e-402b-8f22-bbff3d07f9ec",
   "metadata": {},
   "outputs": [
    {
     "name": "stdout",
     "output_type": "stream",
     "text": [
      "<U11\n"
     ]
    }
   ],
   "source": [
    "arr = np.array([\"vivek\",True ,\"rastogi\",12])\n",
    "print(arr.dtype)"
   ]
  },
  {
   "cell_type": "code",
   "execution_count": 42,
   "id": "1d83a0ac-79fa-42c7-80af-315cd4b8f8a1",
   "metadata": {},
   "outputs": [
    {
     "name": "stdout",
     "output_type": "stream",
     "text": [
      "<U7\n"
     ]
    }
   ],
   "source": [
    "arr = np.array([\"vivek\",True ,\"rastogi\",\"sharma\"])\n",
    "print(arr.dtype)"
   ]
  },
  {
   "cell_type": "code",
   "execution_count": 44,
   "id": "f4ebf108-9c98-4f3b-9ef3-2eefd81afcb6",
   "metadata": {},
   "outputs": [
    {
     "name": "stdout",
     "output_type": "stream",
     "text": [
      "<U11\n"
     ]
    }
   ],
   "source": [
    "arr = np.array([\"vivek\",\"tranner\" ,\"rastogi\",12])\n",
    "print(arr.dtype)"
   ]
  },
  {
   "cell_type": "code",
   "execution_count": 46,
   "id": "7c470e63-db44-455d-a7f1-e2a00c367bd9",
   "metadata": {},
   "outputs": [
    {
     "name": "stdout",
     "output_type": "stream",
     "text": [
      "<U7\n"
     ]
    }
   ],
   "source": [
    "arr = np.array([\"vivek\",\"tranner\" ,\"rastogi\",\"123\",\"True\"])\n",
    "print(arr.dtype)"
   ]
  },
  {
   "cell_type": "code",
   "execution_count": 48,
   "id": "1ae446ba-a9c1-402d-b516-3885e2f8e68b",
   "metadata": {},
   "outputs": [
    {
     "name": "stdout",
     "output_type": "stream",
     "text": [
      "<U7\n"
     ]
    }
   ],
   "source": [
    "arr = np.array([\"vivek\",\"rastogi\"])\n",
    "print(arr.dtype)"
   ]
  },
  {
   "cell_type": "markdown",
   "id": "26c4fe41-880b-4262-9913-44db60b2a0e9",
   "metadata": {},
   "source": [
    "# Create array with a difend data type"
   ]
  },
  {
   "cell_type": "code",
   "execution_count": 51,
   "id": "971b10ab-f802-4364-9cd2-69380638cc79",
   "metadata": {},
   "outputs": [
    {
     "name": "stdout",
     "output_type": "stream",
     "text": [
      "[ 12.  43.  56.  33.  44. 556.  11.]\n",
      "float32\n"
     ]
    }
   ],
   "source": [
    "arr = np.array([12,43,56,33,44,556,11], dtype = 'f')\n",
    "print(arr)\n",
    "print(arr.dtype)"
   ]
  },
  {
   "cell_type": "code",
   "execution_count": 53,
   "id": "ae2a4daa-642b-4f6c-9ca3-bf3685d59e71",
   "metadata": {},
   "outputs": [
    {
     "name": "stdout",
     "output_type": "stream",
     "text": [
      "[b'12' b'43' b'56' b'33' b'44' b'556' b'11']\n",
      "|S3\n"
     ]
    }
   ],
   "source": [
    "arr = np.array([12,43,56,33,44,556,11], dtype = 'S')\n",
    "print(arr)\n",
    "print(arr.dtype)"
   ]
  },
  {
   "cell_type": "code",
   "execution_count": 55,
   "id": "c80a7882-7fb4-4d37-9447-573c76f7ae59",
   "metadata": {},
   "outputs": [
    {
     "name": "stdout",
     "output_type": "stream",
     "text": [
      "[b'1' b'4' b'5' b'3' b'4' b'5' b'1']\n",
      "|S1\n"
     ]
    }
   ],
   "source": [
    "arr = np.array([12,43,56,33,44,556,11], dtype = 'c')\n",
    "print(arr)\n",
    "print(arr.dtype)"
   ]
  },
  {
   "cell_type": "code",
   "execution_count": 59,
   "id": "9de08b43-e287-4de5-bc4a-c141752ba0f9",
   "metadata": {},
   "outputs": [
    {
     "name": "stdout",
     "output_type": "stream",
     "text": [
      "[12 43 56 33 44 44 11]\n",
      "int8\n"
     ]
    },
    {
     "name": "stderr",
     "output_type": "stream",
     "text": [
      "C:\\Users\\vivek rastogi\\AppData\\Local\\Temp\\ipykernel_680\\1172547126.py:1: DeprecationWarning: NumPy will stop allowing conversion of out-of-bound Python integers to integer arrays.  The conversion of 556 to int8 will fail in the future.\n",
      "For the old behavior, usually:\n",
      "    np.array(value).astype(dtype)\n",
      "will give the desired result (the cast overflows).\n",
      "  arr = np.array([12,43,56,33,44,556,11], dtype = 'b')\n"
     ]
    }
   ],
   "source": [
    "arr = np.array([12,43,56,33,44,556,11], dtype = 'b')\n",
    "print(arr)\n",
    "print(arr.dtype)"
   ]
  },
  {
   "cell_type": "markdown",
   "id": "262231b7-78f3-4b39-9733-03058ea69780",
   "metadata": {},
   "source": [
    "# creating an array with datatype 4byte integer"
   ]
  },
  {
   "cell_type": "code",
   "execution_count": 64,
   "id": "dcd78347-6cd8-416e-9f65-ac0835f28bad",
   "metadata": {},
   "outputs": [
    {
     "name": "stdout",
     "output_type": "stream",
     "text": [
      "[ 12  55  76  88  90  33  22 123]\n",
      "int32\n"
     ]
    }
   ],
   "source": [
    "arr = np.array([12,55,76,88,90,33,22,123], dtype = 'i4')\n",
    "print(arr)\n",
    "print(arr.dtype)"
   ]
  },
  {
   "cell_type": "markdown",
   "id": "17be8573-d703-4c78-b532-a9ceef11d7f3",
   "metadata": {},
   "source": [
    "# numpy arrays shape"
   ]
  },
  {
   "cell_type": "markdown",
   "id": "bbffe313-114f-4996-a9ad-aca29f0a7026",
   "metadata": {},
   "source": [
    "the shape of an array is the number of element in each dimension"
   ]
  },
  {
   "cell_type": "markdown",
   "id": "a8a52635-cd8c-449b-a21a-7b31a45a4dd4",
   "metadata": {},
   "source": [
    "# print the shape of the 2-D arrays"
   ]
  },
  {
   "cell_type": "code",
   "execution_count": 78,
   "id": "7de35caa-120a-4b0c-8118-4ee569a900a3",
   "metadata": {},
   "outputs": [
    {
     "name": "stdout",
     "output_type": "stream",
     "text": [
      "(2, 4)\n"
     ]
    }
   ],
   "source": [
    "arr = np.array([[1,2,3,4],[5,6,7,8]])\n",
    "print(arr.shape)"
   ]
  },
  {
   "cell_type": "code",
   "execution_count": 81,
   "id": "15e90d8f-c10d-456b-b9b5-cbc7f4718984",
   "metadata": {},
   "outputs": [
    {
     "name": "stdout",
     "output_type": "stream",
     "text": [
      "(1, 3, 4)\n"
     ]
    }
   ],
   "source": [
    "arr = np.array([[[1,2,3,4],[5,6,7,8],[11,44,66,77]]])\n",
    "print(arr.shape)"
   ]
  },
  {
   "cell_type": "markdown",
   "id": "426a8e73-4f63-473a-9093-ac93a8fff332",
   "metadata": {},
   "source": [
    "# create n array with 5 dimension using ndmin using a vector with values 1,2,3,4 and varify that last dimension has value 4:\n"
   ]
  },
  {
   "cell_type": "code",
   "execution_count": 84,
   "id": "b972f868-a589-4ba7-bb1f-589316fc2765",
   "metadata": {},
   "outputs": [
    {
     "name": "stdout",
     "output_type": "stream",
     "text": [
      "[[[[[1 2 3 4]]]]]\n",
      " shape of array: (1, 1, 1, 1, 4)\n"
     ]
    }
   ],
   "source": [
    "arr = np.array([1 ,2 ,3 ,4], ndmin = 5)\n",
    "print(arr)\n",
    "print(\" shape of array:\", arr.shape)"
   ]
  },
  {
   "cell_type": "markdown",
   "id": "cf322971-8dab-4ff4-b125-c83c3b64dd5e",
   "metadata": {},
   "source": [
    "# joining numpy array"
   ]
  },
  {
   "cell_type": "code",
   "execution_count": 95,
   "id": "f52d1aa8-d00b-4e08-abfc-5ea02281359a",
   "metadata": {},
   "outputs": [
    {
     "name": "stdout",
     "output_type": "stream",
     "text": [
      "[1 2 3 4 5 6 7 8]\n"
     ]
    }
   ],
   "source": [
    "arr1 = np.array([1,2,3,4])\n",
    "arr2 = np.array([5,6,7,8])\n",
    "arr = np.concatenate((arr1 , arr2))\n",
    "print(arr)"
   ]
  },
  {
   "cell_type": "markdown",
   "id": "6db0d59b-36b1-4bb4-bf8b-0bf96f54ecf4",
   "metadata": {},
   "source": [
    "# join teo 2-D array along rows (axis = 1): Rows"
   ]
  },
  {
   "cell_type": "code",
   "execution_count": 101,
   "id": "9a9e9dfe-a4d3-4b33-8533-dcee015c66a4",
   "metadata": {},
   "outputs": [
    {
     "name": "stdout",
     "output_type": "stream",
     "text": [
      "[[1 2 5 6]\n",
      " [3 4 7 8]]\n"
     ]
    }
   ],
   "source": [
    "arr1 = np.array([[1,2],[3,4]])\n",
    "arr2 = np.array([[5,6],[7,8]])\n",
    "arr = np.concatenate((arr1 , arr2) , axis=1)\n",
    "print(arr)"
   ]
  },
  {
   "cell_type": "code",
   "execution_count": 103,
   "id": "2057011c-5716-4786-8850-8c93b99d0516",
   "metadata": {},
   "outputs": [
    {
     "name": "stdout",
     "output_type": "stream",
     "text": [
      "[[1 2]\n",
      " [3 4]\n",
      " [5 6]\n",
      " [7 8]]\n"
     ]
    }
   ],
   "source": [
    "arr1 = np.array([[1,2],[3,4]])\n",
    "arr2 = np.array([[5,6],[7,8]])\n",
    "arr = np.concatenate((arr1 , arr2) , axis=0)\n",
    "print(arr)"
   ]
  },
  {
   "cell_type": "markdown",
   "id": "96022ce7-315d-4604-8989-82fdf816a2bf",
   "metadata": {},
   "source": [
    "# Splitting numpy as arrays"
   ]
  },
  {
   "cell_type": "markdown",
   "id": "30a43478-44cc-4ec4-ae3b-ee5c4b8726d4",
   "metadata": {},
   "source": [
    "# splliting is reverse function of joinning"
   ]
  },
  {
   "cell_type": "markdown",
   "id": "fe3180d2-741c-455a-9c08-ef144f4a578d",
   "metadata": {},
   "source": [
    "joing merges multipal arrays into one and spliting break one arry into multipal"
   ]
  },
  {
   "cell_type": "markdown",
   "id": "d007ea05-4f5a-4d97-815f-de0dc65fa6e6",
   "metadata": {},
   "source": [
    "# split the array in three part"
   ]
  },
  {
   "cell_type": "code",
   "execution_count": 109,
   "id": "6c0e3be8-38bf-4568-b1f8-62b066926c28",
   "metadata": {},
   "outputs": [
    {
     "name": "stdout",
     "output_type": "stream",
     "text": [
      "[array([12, 34, 56, 78]), array([90, 11, 22, 33]), array([44, 55, 65])]\n"
     ]
    }
   ],
   "source": [
    "arr = ([12,34,56,78,90,11,22,33,44,55,65])\n",
    "newarr = np.array_split(arr,3)\n",
    "print(newarr)"
   ]
  },
  {
   "cell_type": "code",
   "execution_count": 111,
   "id": "c5bdfa30-c605-4987-8bf5-574a395a01ea",
   "metadata": {},
   "outputs": [
    {
     "name": "stdout",
     "output_type": "stream",
     "text": [
      "[array([12, 34, 56]), array([78, 90, 11]), array([22, 33, 44]), array([55, 65])]\n"
     ]
    }
   ],
   "source": [
    "# split array into four pats\n",
    "arr = ([12,34,56,78,90,11,22,33,44,55,65])\n",
    "newarr = np.array_split(arr,4)\n",
    "print(newarr)"
   ]
  },
  {
   "cell_type": "markdown",
   "id": "1abe6d5b-ada9-4d3a-b4cf-fa7d6abb9dba",
   "metadata": {},
   "source": [
    "# ravel and flatten - converts multidimensional array into 1-d array"
   ]
  },
  {
   "cell_type": "code",
   "execution_count": 118,
   "id": "6bb83aaf-da68-402b-9fb5-f5961801275d",
   "metadata": {},
   "outputs": [
    {
     "name": "stdout",
     "output_type": "stream",
     "text": [
      "[[[[1 2 3 4 5]\n",
      "   [6 7 8 9 0]\n",
      "   [0 9 8 7 6]\n",
      "   [5 4 3 2 1]]]]\n",
      "dimension is : 4\n",
      "[1 2 3 4 5 6 7 8 9 0 0 9 8 7 6 5 4 3 2 1]\n",
      "new dimension is : 1\n"
     ]
    }
   ],
   "source": [
    "arr = np.array([[[[1,2,3,4,5],[6,7,8,9,0],[0,9,8,7,6],[5,4,3,2,1]]]])\n",
    "print(arr)\n",
    "print(\"dimension is :\" , arr.ndim)\n",
    "arr1 = arr.ravel()\n",
    "print(arr1)\n",
    "print(\"new dimension is :\",arr1.ndim)"
   ]
  },
  {
   "cell_type": "markdown",
   "id": "4b079f61-59ff-4ae9-b606-715f7423e145",
   "metadata": {},
   "source": [
    "# arithmatic operation in numpy arrays"
   ]
  },
  {
   "cell_type": "markdown",
   "id": "8f32834d-b888-4bd5-93ec-ca3b37f24b1e",
   "metadata": {},
   "source": [
    "# addition"
   ]
  },
  {
   "cell_type": "code",
   "execution_count": 122,
   "id": "5c3d6c18-6de2-4ff6-94b9-36513c5f279c",
   "metadata": {},
   "outputs": [
    {
     "name": "stdout",
     "output_type": "stream",
     "text": [
      "[3 4 5 6 7]\n"
     ]
    }
   ],
   "source": [
    "arr = np.array([1,2,3,4,5])\n",
    "y = arr+2\n",
    "print(y)"
   ]
  },
  {
   "cell_type": "code",
   "execution_count": 126,
   "id": "e2046d67-b180-4f3d-aacf-d8109daa29b8",
   "metadata": {},
   "outputs": [
    {
     "name": "stdout",
     "output_type": "stream",
     "text": [
      "[ 7  9 11 13  5]\n"
     ]
    }
   ],
   "source": [
    "arr = np.array([1,2,3,4,5])\n",
    "arr2 = np.array([6,7,8,9,0])\n",
    "y = arr+arr2\n",
    "print(y)"
   ]
  },
  {
   "cell_type": "code",
   "execution_count": 130,
   "id": "415a7f43-8145-4e55-9991-04b1674fd28c",
   "metadata": {},
   "outputs": [
    {
     "name": "stdout",
     "output_type": "stream",
     "text": [
      "[ 7  9 11 13  5]\n"
     ]
    }
   ],
   "source": [
    "arr = np.array([1,2,3,4,5])\n",
    "arr2 = np.array([6,7,8,9,0])\n",
    "y = np.add(arr,arr2)\n",
    "print(y)"
   ]
  },
  {
   "cell_type": "markdown",
   "id": "1f2594f0-ddfc-4c53-926c-d8a55224eea5",
   "metadata": {},
   "source": [
    "# subtraction"
   ]
  },
  {
   "cell_type": "code",
   "execution_count": 133,
   "id": "094859ba-6339-48a7-9893-d6260c4dd1f5",
   "metadata": {},
   "outputs": [
    {
     "name": "stdout",
     "output_type": "stream",
     "text": [
      "[-1  0  1  2  3]\n"
     ]
    }
   ],
   "source": [
    "arr = np.array([1,2,3,4,5])\n",
    "y = arr-2\n",
    "print(y)"
   ]
  },
  {
   "cell_type": "code",
   "execution_count": 135,
   "id": "0589be3e-86d8-46f6-9b2c-8805c70e4915",
   "metadata": {},
   "outputs": [
    {
     "name": "stdout",
     "output_type": "stream",
     "text": [
      "[-5 -5 -5 -5  5]\n"
     ]
    }
   ],
   "source": [
    "arr = np.array([1,2,3,4,5])\n",
    "arr2 = np.array([6,7,8,9,0])\n",
    "y = arr-arr2\n",
    "print(y)"
   ]
  },
  {
   "cell_type": "code",
   "execution_count": 139,
   "id": "101c83d1-66ab-4425-a63c-34fd647fb247",
   "metadata": {},
   "outputs": [
    {
     "name": "stdout",
     "output_type": "stream",
     "text": [
      "[-5 -5 -5 -5  5]\n"
     ]
    }
   ],
   "source": [
    "arr = np.array([1,2,3,4,5])\n",
    "arr2 = np.array([6,7,8,9,0])\n",
    "y = np.subtract(arr,arr2a\n",
    "print(y)"
   ]
  },
  {
   "cell_type": "markdown",
   "id": "0e289d03-fde5-4989-a088-d6418888b148",
   "metadata": {},
   "source": [
    "# Multiplication"
   ]
  },
  {
   "cell_type": "code",
   "execution_count": 142,
   "id": "9bdf0f85-2f21-42b7-bd8c-03b472a9c03c",
   "metadata": {},
   "outputs": [
    {
     "name": "stdout",
     "output_type": "stream",
     "text": [
      "[ 2  4  6  8 10]\n"
     ]
    }
   ],
   "source": [
    "arr = np.array([1,2,3,4,5])\n",
    "y = arr*2\n",
    "print(y)"
   ]
  },
  {
   "cell_type": "code",
   "execution_count": 144,
   "id": "b49a03cc-fbe0-4ea1-97d5-d61d4d7b1cc8",
   "metadata": {},
   "outputs": [
    {
     "name": "stdout",
     "output_type": "stream",
     "text": [
      "[ 6 14 24 36  0]\n"
     ]
    }
   ],
   "source": [
    "arr = np.array([1,2,3,4,5])\n",
    "arr2 = np.array([6,7,8,9,0])\n",
    "y = arr*arr2\n",
    "print(y)"
   ]
  },
  {
   "cell_type": "code",
   "execution_count": 150,
   "id": "066e2887-e3d3-45e5-901d-3b0f948231d9",
   "metadata": {},
   "outputs": [
    {
     "name": "stdout",
     "output_type": "stream",
     "text": [
      "[ 6 14 24 36  0]\n"
     ]
    }
   ],
   "source": [
    "arr = np.array([1,2,3,4,5])\n",
    "arr2 = np.array([6,7,8,9,0])\n",
    "y = np.multiply(arr,arr2)\n",
    "print(y)"
   ]
  },
  {
   "cell_type": "markdown",
   "id": "a6161c90-0b09-430e-8558-271ed07aadd3",
   "metadata": {},
   "source": [
    "# Division"
   ]
  },
  {
   "cell_type": "code",
   "execution_count": 153,
   "id": "17fa9a6d-ac02-4f88-8219-e882c67b2088",
   "metadata": {},
   "outputs": [
    {
     "name": "stdout",
     "output_type": "stream",
     "text": [
      "[0.5 1.  1.5 2.  2.5]\n"
     ]
    }
   ],
   "source": [
    "arr = np.array([1,2,3,4,5])\n",
    "y = arr/2\n",
    "print(y)"
   ]
  },
  {
   "cell_type": "code",
   "execution_count": 157,
   "id": "4e16b7f7-5b88-40b7-aa5d-4aeeb6ffaa9e",
   "metadata": {},
   "outputs": [
    {
     "name": "stdout",
     "output_type": "stream",
     "text": [
      "[0.16666667 0.28571429 0.375      0.44444444 2.5       ]\n"
     ]
    }
   ],
   "source": [
    "arr = np.array([1,2,3,4,5])\n",
    "arr2 = np.array([6,7,8,9,2])\n",
    "y = arr/arr2\n",
    "print(y)"
   ]
  },
  {
   "cell_type": "code",
   "execution_count": 161,
   "id": "f1030e4b-69f5-4dcf-a3c8-03538f42d46c",
   "metadata": {},
   "outputs": [
    {
     "name": "stdout",
     "output_type": "stream",
     "text": [
      "[0.16666667 0.28571429 0.375      0.44444444 2.5       ]\n"
     ]
    }
   ],
   "source": [
    "arr = np.array([1,2,3,4,5])\n",
    "arr2 = np.array([6,7,8,9,2])\n",
    "y = np.divide(arr,arr2)\n",
    "print(y)"
   ]
  },
  {
   "cell_type": "markdown",
   "id": "bc664c25-e626-4c02-a2a0-dfffa4eb4784",
   "metadata": {},
   "source": [
    "# Modulous"
   ]
  },
  {
   "cell_type": "code",
   "execution_count": 164,
   "id": "5927cd59-a516-4d23-a4c5-66205b7b22de",
   "metadata": {},
   "outputs": [
    {
     "name": "stdout",
     "output_type": "stream",
     "text": [
      "[1 0 1 0 1]\n"
     ]
    }
   ],
   "source": [
    "arr = np.array([1,2,3,4,5])\n",
    "y = arr%2\n",
    "print(y)"
   ]
  },
  {
   "cell_type": "code",
   "execution_count": 166,
   "id": "e7f957ba-a5a6-40ac-a57f-454c07a2b76a",
   "metadata": {},
   "outputs": [
    {
     "name": "stdout",
     "output_type": "stream",
     "text": [
      "[1 2 3 4 1]\n"
     ]
    }
   ],
   "source": [
    "arr = np.array([1,2,3,4,5])\n",
    "arr2 = np.array([6,7,8,9,2])\n",
    "y = arr%arr2\n",
    "print(y)"
   ]
  },
  {
   "cell_type": "code",
   "execution_count": 168,
   "id": "212ac671-970f-4851-813b-992b83abc635",
   "metadata": {},
   "outputs": [
    {
     "name": "stdout",
     "output_type": "stream",
     "text": [
      "[1 2 3 4 1]\n"
     ]
    }
   ],
   "source": [
    "arr = np.array([1,2,3,4,5])\n",
    "arr2 = np.array([6,7,8,9,2])\n",
    "y = np.mod(arr,arr2)\n",
    "print(y)"
   ]
  },
  {
   "cell_type": "markdown",
   "id": "3917280d-bf78-45e6-999a-a22f8b2ba0d4",
   "metadata": {},
   "source": [
    "# Arithmatic operation on 2d array"
   ]
  },
  {
   "cell_type": "code",
   "execution_count": 171,
   "id": "81b81374-4cde-464d-a983-c2a217cfcec2",
   "metadata": {},
   "outputs": [
    {
     "name": "stdout",
     "output_type": "stream",
     "text": [
      "[[11 21 31 41 51]\n",
      " [16 37 58 68 85]]\n"
     ]
    }
   ],
   "source": [
    "arr1 = np.array([[12,23,34,45,56],[22,44,66,77,88]])\n",
    "arr2 = np.array([[1,2,3,4,5],[6,7,8,9,3]])\n",
    "x = arr1-arr2\n",
    "print(x)"
   ]
  },
  {
   "cell_type": "code",
   "execution_count": 173,
   "id": "0bc1f9a9-f81e-44c0-88b7-0cec701c4a64",
   "metadata": {},
   "outputs": [
    {
     "name": "stdout",
     "output_type": "stream",
     "text": [
      "[[ 12  46 102 180 280]\n",
      " [132 308 528 693 264]]\n"
     ]
    }
   ],
   "source": [
    "arr1 = np.array([[12,23,34,45,56],[22,44,66,77,88]])\n",
    "arr2 = np.array([[1,2,3,4,5],[6,7,8,9,3]])\n",
    "x = arr1*arr2\n",
    "print(x)"
   ]
  },
  {
   "cell_type": "code",
   "execution_count": 175,
   "id": "27d2bc27-668a-4f64-b6e5-b8c430740728",
   "metadata": {},
   "outputs": [
    {
     "name": "stdout",
     "output_type": "stream",
     "text": [
      "[[12.         11.5        11.33333333 11.25       11.2       ]\n",
      " [ 3.66666667  6.28571429  8.25        8.55555556 29.33333333]]\n"
     ]
    }
   ],
   "source": [
    "arr1 = np.array([[12,23,34,45,56],[22,44,66,77,88]])\n",
    "arr2 = np.array([[1,2,3,4,5],[6,7,8,9,3]])\n",
    "x = arr1/arr2\n",
    "print(x)"
   ]
  },
  {
   "cell_type": "code",
   "execution_count": 177,
   "id": "0f91c174-d57b-45ff-a961-77e6cf2358ba",
   "metadata": {},
   "outputs": [
    {
     "name": "stdout",
     "output_type": "stream",
     "text": [
      "[[13 25 37 49 61]\n",
      " [28 51 74 86 91]]\n"
     ]
    }
   ],
   "source": [
    "arr1 = np.array([[12,23,34,45,56],[22,44,66,77,88]])\n",
    "arr2 = np.array([[1,2,3,4,5],[6,7,8,9,3]])\n",
    "x = arr1+arr2\n",
    "print(x)"
   ]
  },
  {
   "cell_type": "code",
   "execution_count": 179,
   "id": "200a94e8-fe41-4f31-900f-8d8f2d9d0506",
   "metadata": {},
   "outputs": [
    {
     "name": "stdout",
     "output_type": "stream",
     "text": [
      "[[0 1 1 1 1]\n",
      " [4 2 2 5 1]]\n"
     ]
    }
   ],
   "source": [
    "arr1 = np.array([[12,23,34,45,56],[22,44,66,77,88]])\n",
    "arr2 = np.array([[1,2,3,4,5],[6,7,8,9,3]])\n",
    "x = arr1%arr2\n",
    "print(x)"
   ]
  },
  {
   "cell_type": "markdown",
   "id": "46ca1f0f-9fc5-4d8b-ba34-542d5d9c1d38",
   "metadata": {},
   "source": [
    "# arithmatic opration 3 D array"
   ]
  },
  {
   "cell_type": "code",
   "execution_count": 182,
   "id": "29426d63-7991-4516-81c1-9d3e468e9b79",
   "metadata": {},
   "outputs": [
    {
     "name": "stdout",
     "output_type": "stream",
     "text": [
      "[[[ 11  21  31  41  51]\n",
      "  [-21  38  59  69  79]\n",
      "  [  5  27  -6  -4   1]]]\n"
     ]
    }
   ],
   "source": [
    "arr1 = np.array([[[12,23,34,45,56],[22,44,66,77,88],[11,34,2,5,4]]])\n",
    "arr2 = np.array([[[1,2,3,4,5],[43,6,7,8,9],[6,7,8,9,3]]])\n",
    "x = arr1-arr2\n",
    "print(x)"
   ]
  },
  {
   "cell_type": "code",
   "execution_count": 184,
   "id": "ca6439b3-41fd-467d-9fb8-98247842d13c",
   "metadata": {},
   "outputs": [
    {
     "name": "stdout",
     "output_type": "stream",
     "text": [
      "[[[13 25 37 49 61]\n",
      "  [65 50 73 85 97]\n",
      "  [17 41 10 14  7]]]\n"
     ]
    }
   ],
   "source": [
    "arr1 = np.array([[[12,23,34,45,56],[22,44,66,77,88],[11,34,2,5,4]]])\n",
    "arr2 = np.array([[[1,2,3,4,5],[43,6,7,8,9],[6,7,8,9,3]]])\n",
    "x = arr1+arr2\n",
    "print(x)"
   ]
  },
  {
   "cell_type": "code",
   "execution_count": 186,
   "id": "1d1ae942-f57b-4acb-a349-7251e736c332",
   "metadata": {},
   "outputs": [
    {
     "name": "stdout",
     "output_type": "stream",
     "text": [
      "[[[12.         11.5        11.33333333 11.25       11.2       ]\n",
      "  [ 0.51162791  7.33333333  9.42857143  9.625       9.77777778]\n",
      "  [ 1.83333333  4.85714286  0.25        0.55555556  1.33333333]]]\n"
     ]
    }
   ],
   "source": [
    "arr1 = np.array([[[12,23,34,45,56],[22,44,66,77,88],[11,34,2,5,4]]])\n",
    "arr2 = np.array([[[1,2,3,4,5],[43,6,7,8,9],[6,7,8,9,3]]])\n",
    "x = arr1/arr2\n",
    "print(x)"
   ]
  },
  {
   "cell_type": "code",
   "execution_count": 188,
   "id": "28000663-b912-49eb-b048-9f89c11c19c9",
   "metadata": {},
   "outputs": [
    {
     "name": "stdout",
     "output_type": "stream",
     "text": [
      "[[[ 12  46 102 180 280]\n",
      "  [946 264 462 616 792]\n",
      "  [ 66 238  16  45  12]]]\n"
     ]
    }
   ],
   "source": [
    "arr1 = np.array([[[12,23,34,45,56],[22,44,66,77,88],[11,34,2,5,4]]])\n",
    "arr2 = np.array([[[1,2,3,4,5],[43,6,7,8,9],[6,7,8,9,3]]])\n",
    "x = arr1*arr2\n",
    "print(x)"
   ]
  },
  {
   "cell_type": "code",
   "execution_count": 190,
   "id": "48368eb7-06b1-4f84-9699-671df1e0b094",
   "metadata": {},
   "outputs": [
    {
     "name": "stdout",
     "output_type": "stream",
     "text": [
      "[[[ 0  1  1  1  1]\n",
      "  [22  2  3  5  7]\n",
      "  [ 5  6  2  5  1]]]\n"
     ]
    }
   ],
   "source": [
    "arr1 = np.array([[[12,23,34,45,56],[22,44,66,77,88],[11,34,2,5,4]]])\n",
    "arr2 = np.array([[[1,2,3,4,5],[43,6,7,8,9],[6,7,8,9,3]]])\n",
    "x = arr1%arr2\n",
    "print(x)"
   ]
  },
  {
   "cell_type": "markdown",
   "id": "6e23c5ee-ce0d-4147-988c-f46b3214dbcf",
   "metadata": {},
   "source": [
    "# Unique function"
   ]
  },
  {
   "cell_type": "code",
   "execution_count": 193,
   "id": "056086c2-5ac7-4452-ad9c-a7a129fb422d",
   "metadata": {},
   "outputs": [
    {
     "name": "stdout",
     "output_type": "stream",
     "text": [
      "[ 1  2 33 22  4 66 55 44 33  1  2  3  4  5  1  2  7  6  5  8 45  8  7  9\n",
      "  0  8  7]\n",
      "[ 0  1  2  3  4  5  6  7  8  9 22 33 44 45 55 66]\n"
     ]
    }
   ],
   "source": [
    "arr = np.array([1,2,33,22,4,66,55,44,33,1,2,3,4,5,1,2,7,6,5,8,45,8,7,9,0,8,7])\n",
    "print(arr)\n",
    "y = np.unique(arr)\n",
    "print(y)"
   ]
  },
  {
   "cell_type": "code",
   "execution_count": 195,
   "id": "e285ea49-ad9d-4b99-a8d9-e26296aefb4f",
   "metadata": {},
   "outputs": [
    {
     "name": "stdout",
     "output_type": "stream",
     "text": [
      "[ 1  2 33 22  4 66 55 44 33  1  2  3  4  5  1  2  7  6  5  8 45  8  7  9\n",
      "  0  8  7]\n",
      "(array([ 0,  1,  2,  3,  4,  5,  6,  7,  8,  9, 22, 33, 44, 45, 55, 66]), array([24,  0,  1, 11,  4, 13, 17, 16, 19, 23,  3,  2,  7, 20,  6,  5],\n",
      "      dtype=int64))\n"
     ]
    }
   ],
   "source": [
    "arr = np.array([1,2,33,22,4,66,55,44,33,1,2,3,4,5,1,2,7,6,5,8,45,8,7,9,0,8,7])\n",
    "print(arr)\n",
    "y = np.unique(arr, return_index = True)\n",
    "print(y)"
   ]
  },
  {
   "cell_type": "code",
   "execution_count": 197,
   "id": "72d5f6c0-dbbf-491c-8706-85c5e1430977",
   "metadata": {},
   "outputs": [
    {
     "name": "stdout",
     "output_type": "stream",
     "text": [
      "[ 1  2 33 22  4 66 55 44 33  1  2  3  4  5  1  2  7  6  5  8 45  8  7  9\n",
      "  0  8  7]\n",
      "(array([ 0,  1,  2,  3,  4,  5,  6,  7,  8,  9, 22, 33, 44, 45, 55, 66]), array([1, 3, 3, 1, 2, 2, 1, 3, 3, 1, 1, 2, 1, 1, 1, 1], dtype=int64))\n"
     ]
    }
   ],
   "source": [
    "arr = np.array([1,2,33,22,4,66,55,44,33,1,2,3,4,5,1,2,7,6,5,8,45,8,7,9,0,8,7])\n",
    "print(arr)\n",
    "y = np.unique(arr, return_counts = True)\n",
    "print(y)"
   ]
  },
  {
   "cell_type": "markdown",
   "id": "7320ed47-028b-4cee-9beb-d9c15b31ed13",
   "metadata": {},
   "source": [
    "# Delete"
   ]
  },
  {
   "cell_type": "code",
   "execution_count": 204,
   "id": "89aa2da0-e56c-479e-b7b5-3289443a993f",
   "metadata": {},
   "outputs": [
    {
     "name": "stdout",
     "output_type": "stream",
     "text": [
      "[ 1  2 33 22  4 66 44 33  1  2  3]\n"
     ]
    }
   ],
   "source": [
    "arr = np.array([1,2,33,22,4,66,55,44,33,1,2,3])\n",
    "arr1 = np.delete(arr,[6])\n",
    "print(arr1)"
   ]
  },
  {
   "cell_type": "code",
   "execution_count": 210,
   "id": "576612bc-df4a-4d45-bdb8-86b191e50c4b",
   "metadata": {},
   "outputs": [
    {
     "name": "stdout",
     "output_type": "stream",
     "text": [
      "[[12  3 44 55 66 55]\n",
      " [11 44 55 66 77 44]\n",
      " [77 55 66 87 99 90]]\n",
      "\n",
      "[[12  3 44 55 66 55]\n",
      " [77 55 66 87 99 90]]\n"
     ]
    }
   ],
   "source": [
    "arr = np.array([[12,3,44,55,66,55],[11,44,55,66,77,44],[77,55,66,87,99,90]])\n",
    "print(arr)\n",
    "arr1 = np.delete(arr,1 , axis = 0)\n",
    "print()\n",
    "print(arr1)"
   ]
  },
  {
   "cell_type": "code",
   "execution_count": null,
   "id": "bef25508-1dcd-4550-8afe-ac00c5d77925",
   "metadata": {},
   "outputs": [],
   "source": []
  }
 ],
 "metadata": {
  "kernelspec": {
   "display_name": "Python 3 (ipykernel)",
   "language": "python",
   "name": "python3"
  },
  "language_info": {
   "codemirror_mode": {
    "name": "ipython",
    "version": 3
   },
   "file_extension": ".py",
   "mimetype": "text/x-python",
   "name": "python",
   "nbconvert_exporter": "python",
   "pygments_lexer": "ipython3",
   "version": "3.12.7"
  }
 },
 "nbformat": 4,
 "nbformat_minor": 5
}
