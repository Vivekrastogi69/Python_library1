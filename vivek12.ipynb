{
 "cells": [
  {
   "cell_type": "markdown",
   "id": "c986473f-64fe-484f-8c5d-a5962de21da1",
   "metadata": {},
   "source": [
    "# Day12"
   ]
  },
  {
   "cell_type": "markdown",
   "id": "6a95a586-4474-4a17-a313-e9c54e10a916",
   "metadata": {},
   "source": [
    "# Numpy liberary"
   ]
  },
  {
   "cell_type": "code",
   "execution_count": 4,
   "id": "b443aabd-599e-4a12-9a14-b933b99d85ab",
   "metadata": {},
   "outputs": [],
   "source": [
    "import numpy as np"
   ]
  },
  {
   "cell_type": "code",
   "execution_count": 10,
   "id": "2ce067e2-fcbe-4a98-abb8-04a31cd0029e",
   "metadata": {},
   "outputs": [
    {
     "name": "stdout",
     "output_type": "stream",
     "text": [
      "1.26.4\n"
     ]
    }
   ],
   "source": [
    "print(np.__version__) # version pata karna ka liya"
   ]
  },
  {
   "cell_type": "markdown",
   "id": "1aab6465-4acf-450d-bf31-b6ed83c73387",
   "metadata": {},
   "source": [
    "# Create a numpy ndarray object"
   ]
  },
  {
   "cell_type": "markdown",
   "id": "ab82b046-e8ba-46df-92ba-4f87e58e6081",
   "metadata": {},
   "source": [
    "numpy is used to work with array. the array object in numpy is calld ndarray\n",
    "we can create a numpy ndarray objet by using the array() function."
   ]
  },
  {
   "cell_type": "code",
   "execution_count": 18,
   "id": "cd0c314b-9a83-4212-b426-3f2cf3027f48",
   "metadata": {},
   "outputs": [
    {
     "name": "stdout",
     "output_type": "stream",
     "text": [
      "[1 2 3 4 5]\n",
      "<class 'numpy.ndarray'>\n"
     ]
    }
   ],
   "source": [
    "arr = np.array([1,2,3,4,5])\n",
    "print(arr)\n",
    "print(type(arr))"
   ]
  },
  {
   "cell_type": "markdown",
   "id": "67de0d76-7b2a-492a-959b-72bcd8199712",
   "metadata": {},
   "source": [
    "# to create an ndarray, we can pass a list, tuple or any array like object into the array() method, and it will be convert into ndarray.\n",
    "\n",
    "# use a tuple to create a numpy array:"
   ]
  },
  {
   "cell_type": "code",
   "execution_count": 23,
   "id": "a2bd5876-6698-4630-b859-ce21d2069799",
   "metadata": {},
   "outputs": [
    {
     "name": "stdout",
     "output_type": "stream",
     "text": [
      "['1' '23' '43' 'vivek' 'True']\n",
      "<class 'numpy.ndarray'>\n"
     ]
    }
   ],
   "source": [
    "arr = np.array((1,23,43,\"vivek\",True))\n",
    "print(arr)\n",
    "print(type(arr))"
   ]
  },
  {
   "cell_type": "markdown",
   "id": "850ff911-9f4f-4cbb-a068-53000c03df1a",
   "metadata": {},
   "source": [
    "# Dimensional in arrays"
   ]
  },
  {
   "cell_type": "markdown",
   "id": "f473c2ad-8c3f-4323-aa0f-58bba5fbb5cb",
   "metadata": {},
   "source": [
    "0-D Array 0-D arrays, or scalars, are the element in array each value in an array is a 0-D array.\n",
    "\n",
    "Create a 0-D array with value 20"
   ]
  },
  {
   "cell_type": "code",
   "execution_count": 29,
   "id": "2287fffa-703c-41db-ba54-16ad591b6653",
   "metadata": {},
   "outputs": [
    {
     "name": "stdout",
     "output_type": "stream",
     "text": [
      "20\n",
      "<class 'numpy.ndarray'>\n",
      "0\n"
     ]
    }
   ],
   "source": [
    "arr = np.array(20)\n",
    "print(arr)\n",
    "print(type(arr))\n",
    "print(arr.ndim) # dimension pata karna ka liya"
   ]
  },
  {
   "cell_type": "markdown",
   "id": "9799e8fc-e637-46f6-92c5-17420e4f7dfb",
   "metadata": {},
   "source": [
    "# 1-D Array"
   ]
  },
  {
   "cell_type": "code",
   "execution_count": 33,
   "id": "37e93d13-d8b1-42f4-8ea9-f33e258f4b57",
   "metadata": {},
   "outputs": [
    {
     "name": "stdout",
     "output_type": "stream",
     "text": [
      "[12 23 54 76 87]\n",
      "1\n"
     ]
    }
   ],
   "source": [
    "arr = np.array([12,23,54,76,87])\n",
    "print(arr)\n",
    "print(arr.ndim)"
   ]
  },
  {
   "cell_type": "markdown",
   "id": "48715482-ec70-464a-9709-a52315999d19",
   "metadata": {},
   "source": [
    "# Creating 2-D array"
   ]
  },
  {
   "cell_type": "code",
   "execution_count": 38,
   "id": "2d461e56-3e90-4ff8-80e2-484bc16ebbd8",
   "metadata": {},
   "outputs": [
    {
     "name": "stdout",
     "output_type": "stream",
     "text": [
      "[[1 2 3 4]\n",
      " [5 6 7 8]]\n",
      "<class 'numpy.ndarray'>\n",
      "2\n"
     ]
    }
   ],
   "source": [
    "arr = np.array([[1,2,3,4],[5,6,7,8]])\n",
    "print(arr)\n",
    "print(type(arr))\n",
    "print(arr.ndim)"
   ]
  },
  {
   "cell_type": "code",
   "execution_count": 40,
   "id": "1df62f07-9bb3-46fe-b3fe-304eb53e65ea",
   "metadata": {},
   "outputs": [
    {
     "name": "stdout",
     "output_type": "stream",
     "text": [
      "[['1' '2' '3' '4' 'vivek']\n",
      " ['5' '6' '7' '8' 'True']]\n",
      "<class 'numpy.ndarray'>\n",
      "2\n"
     ]
    }
   ],
   "source": [
    "arr = np.array([[1,2,3,4,\"vivek\"],[5,6,7,8,True]])\n",
    "print(arr)\n",
    "print(type(arr))\n",
    "print(arr.ndim)"
   ]
  },
  {
   "cell_type": "code",
   "execution_count": 42,
   "id": "3bc5e49e-bf71-42aa-a129-5ab433ee4849",
   "metadata": {},
   "outputs": [
    {
     "name": "stdout",
     "output_type": "stream",
     "text": [
      "[[1.  2.  0.3 4. ]\n",
      " [5.6 6.  7.  8. ]]\n",
      "<class 'numpy.ndarray'>\n",
      "2\n"
     ]
    }
   ],
   "source": [
    "arr = np.array([[1,2,0.3,4],[5.6,6,7,8]])\n",
    "print(arr)\n",
    "print(type(arr))\n",
    "print(arr.ndim)"
   ]
  },
  {
   "cell_type": "markdown",
   "id": "83405dce-f77e-4d18-9747-b606382ae57c",
   "metadata": {},
   "source": [
    "# 3-D array"
   ]
  },
  {
   "cell_type": "code",
   "execution_count": 51,
   "id": "6aa29bfb-df6b-4f08-a1c6-9683f1224b0c",
   "metadata": {},
   "outputs": [
    {
     "name": "stdout",
     "output_type": "stream",
     "text": [
      "[[[  1.    3.2   2.    1. ]\n",
      "  [  4.    6.    5.  987. ]]\n",
      "\n",
      " [[  4.   87.   90.    0. ]\n",
      "  [ 12.   32.   43.   23. ]]]\n",
      "3\n",
      "<class 'numpy.ndarray'>\n",
      "2\n"
     ]
    }
   ],
   "source": [
    "arr = np.array([[[1,3.2 ,2,True],[4,6,5,987]],[[4,87,90,False],[12,32,43,23]]])\n",
    "print(arr)\n",
    "print(arr.ndim)\n",
    "print(type(arr))\n",
    "print(len(arr))"
   ]
  },
  {
   "cell_type": "code",
   "execution_count": 53,
   "id": "da1a11d3-92d6-4e30-8aa9-07afe7281520",
   "metadata": {},
   "outputs": [
    {
     "name": "stdout",
     "output_type": "stream",
     "text": [
      "[[[  1.    3.2   2.    1. ]\n",
      "  [  4.    6.    5.  987. ]\n",
      "  [  4.   87.   90.    0. ]]]\n",
      "3\n",
      "<class 'numpy.ndarray'>\n",
      "1\n"
     ]
    }
   ],
   "source": [
    "arr = np.array([[[1,3.2 ,2,True],[4,6,5,987],[4,87,90,False]]])\n",
    "print(arr)\n",
    "print(arr.ndim)\n",
    "print(type(arr))\n",
    "print(len(arr))"
   ]
  },
  {
   "cell_type": "markdown",
   "id": "f0817770-b32a-4b69-ab60-9d37472eeadf",
   "metadata": {},
   "source": [
    "# Check numbe of Dimension"
   ]
  },
  {
   "cell_type": "code",
   "execution_count": 62,
   "id": "79c28b0c-0d53-4d45-8df2-62ecb0536d95",
   "metadata": {},
   "outputs": [
    {
     "name": "stdout",
     "output_type": "stream",
     "text": [
      "0\n",
      "1\n",
      "2\n",
      "3\n"
     ]
    }
   ],
   "source": [
    "a = np.array(42)\n",
    "b = np.array([1,2,3,4,5,7])\n",
    "c = np.array([[1,2,3],[3,5,7]])\n",
    "d = np.array([[[1,2,3],[4,5,6]],[[8,7,6],[6,5,4]]])\n",
    "\n",
    "print(a.ndim)\n",
    "print(b.ndim)\n",
    "print(c.ndim)\n",
    "print(d.ndim)"
   ]
  },
  {
   "cell_type": "markdown",
   "id": "91a2a4ee-4e5b-492c-a07e-4028d7aaa0aa",
   "metadata": {},
   "source": [
    "# hish dimension array"
   ]
  },
  {
   "cell_type": "markdown",
   "id": "98f63bb8-079f-4989-85bb-3fee40ceaeae",
   "metadata": {},
   "source": [
    "an array can have any number of dimension\n",
    "\n",
    "when the array is created , you can define the number of dimension by using the ndmin argument."
   ]
  },
  {
   "cell_type": "markdown",
   "id": "94bcdfa1-b4df-406b-b2c2-4f547e980b69",
   "metadata": {},
   "source": [
    "# creating an array with 5 Dimension and varify that it has 5 Dimension"
   ]
  },
  {
   "cell_type": "code",
   "execution_count": 73,
   "id": "7958dbfb-ad5c-42fd-9648-5bfdca11f6a0",
   "metadata": {},
   "outputs": [
    {
     "name": "stdout",
     "output_type": "stream",
     "text": [
      "[[[[[1 2 4 5 6]]]]]\n",
      "number of Dimension : 5\n"
     ]
    }
   ],
   "source": [
    "arr = np.array([1, 2, 4, 5, 6], ndmin = 5)\n",
    "print(arr)\n",
    "print('number of Dimension :', arr.ndim)"
   ]
  },
  {
   "cell_type": "code",
   "execution_count": 75,
   "id": "03278bd4-6635-4af4-99a4-944041ea75a3",
   "metadata": {},
   "outputs": [
    {
     "name": "stdout",
     "output_type": "stream",
     "text": [
      "[[[[[1 2 4 5 6]]]]]\n",
      "5\n"
     ]
    }
   ],
   "source": [
    "arr = np.array([[[[[1, 2 ,4, 5 ,6]]]]])\n",
    "print(arr)\n",
    "print(arr.ndim)"
   ]
  },
  {
   "cell_type": "markdown",
   "id": "d8898d68-3126-4fdc-80eb-ec96426ae4b7",
   "metadata": {},
   "source": [
    "# numpy array indexing"
   ]
  },
  {
   "cell_type": "markdown",
   "id": "2cbdec78-3e7f-42e8-bdaa-36d46e26a334",
   "metadata": {},
   "source": [
    "arry indeing is the same as accessing an array element\n",
    "\n",
    "you can access an array elementby refring to its index number\n",
    "\n",
    "the indexs in numpy arrays start with 0, meaning that the first element has index 0 and the second has index 1 etc.."
   ]
  },
  {
   "cell_type": "markdown",
   "id": "3d0664c2-a33b-4642-81b6-6fd390be0d04",
   "metadata": {},
   "source": [
    "# Get the first element from the array"
   ]
  },
  {
   "cell_type": "code",
   "execution_count": 80,
   "id": "e5f98816-e3b6-4928-9bc2-fbd2bd069386",
   "metadata": {},
   "outputs": [
    {
     "name": "stdout",
     "output_type": "stream",
     "text": [
      "87\n"
     ]
    }
   ],
   "source": [
    "arr = np.array([12,43,54,67,87,132,43])\n",
    "print(arr[4])"
   ]
  },
  {
   "cell_type": "markdown",
   "id": "243015df-7430-4b27-aff0-66abb905ff73",
   "metadata": {},
   "source": [
    "# Get third and sixth ant 8th element from the folloeing array and add them"
   ]
  },
  {
   "cell_type": "code",
   "execution_count": 83,
   "id": "8bf70c90-ced9-4a53-a06b-be59a7311ab9",
   "metadata": {},
   "outputs": [
    {
     "name": "stdout",
     "output_type": "stream",
     "text": [
      "the third element is: 14\n",
      "the sisth element is: 17\n",
      "the 8th element is: 19\n",
      "the sum of the element are: 50\n"
     ]
    }
   ],
   "source": [
    "arr = np.array([12,13,14,15,16,17,18,19,22,33,44,55,66,88,90])\n",
    "print(\"the third element is:\", arr[2])\n",
    "print(\"the sisth element is:\", arr[5])\n",
    "print(\"the 8th element is:\", arr[7])\n",
    "print(\"the sum of the element are:\", arr[2]+arr[5]+arr[7])"
   ]
  },
  {
   "cell_type": "markdown",
   "id": "a50cb4cf-bcf5-4647-a5a1-e91826d1d1b3",
   "metadata": {},
   "source": [
    "# Accessing 2-d arrays"
   ]
  },
  {
   "cell_type": "markdown",
   "id": "1279c927-8d23-4fdc-a02f-90c63a4df0b7",
   "metadata": {},
   "source": [
    "to access element from 2-D arrays we use comma seprated integers representing the dimension and the index of the elememnt.\n",
    "\n",
    "think pog 2-D array like a tabel ewith row and column, where the dimension seperate the row and the i ndex seperate the column."
   ]
  },
  {
   "cell_type": "code",
   "execution_count": 89,
   "id": "9476a1ef-29c8-40af-ac86-c029eb77f6c8",
   "metadata": {},
   "outputs": [
    {
     "name": "stdout",
     "output_type": "stream",
     "text": [
      "2nd element in 1st row: 2\n"
     ]
    }
   ],
   "source": [
    "arr = np.array([[1,2,3,4,5,34],[22,23,22,45,8,7]])\n",
    "print(\"2nd element in 1st row:\" , arr[0,1])"
   ]
  },
  {
   "cell_type": "code",
   "execution_count": 91,
   "id": "1ed55819-79fa-4257-8148-8c695fdc0e5c",
   "metadata": {},
   "outputs": [
    {
     "name": "stdout",
     "output_type": "stream",
     "text": [
      "4th element in 1st row: 4\n"
     ]
    }
   ],
   "source": [
    "arr = np.array([[1,2,3,4,5,34],[22,23,22,45,8,7]])\n",
    "print(\"4th element in 1st row:\" , arr[0,3])"
   ]
  },
  {
   "cell_type": "code",
   "execution_count": 95,
   "id": "78b36623-33c1-46cc-97a2-3db17dfaa3c1",
   "metadata": {},
   "outputs": [
    {
     "name": "stdout",
     "output_type": "stream",
     "text": [
      "1st element in 2nd row: 22\n"
     ]
    }
   ],
   "source": [
    "arr = np.array([[1,2,3,4,5,34],[22,23,22,45,8,7]])\n",
    "print(\"1st element in 2nd row:\" , arr[1,0])"
   ]
  },
  {
   "cell_type": "code",
   "execution_count": 99,
   "id": "05a858f3-8ee6-487d-a5e7-32184486912c",
   "metadata": {},
   "outputs": [
    {
     "name": "stdout",
     "output_type": "stream",
     "text": [
      "last element in 1st row: 7\n"
     ]
    }
   ],
   "source": [
    "arr = np.array([[1,2,3,4,5,34],[22,23,22,45,8,7]])\n",
    "print(\"last element in 1st row:\" , arr[1,5])"
   ]
  },
  {
   "cell_type": "markdown",
   "id": "fba4ac68-b451-45a8-9829-caa3f5592202",
   "metadata": {},
   "source": [
    "# add the first element of row 1 and last element"
   ]
  },
  {
   "cell_type": "code",
   "execution_count": 102,
   "id": "1a7dd339-042b-4bb3-ad52-d7f92b008475",
   "metadata": {},
   "outputs": [
    {
     "name": "stdout",
     "output_type": "stream",
     "text": [
      "first element in 1st row: 1\n",
      "last element of second row: 7\n",
      "sum is: 8\n"
     ]
    }
   ],
   "source": [
    "arr = np.array([[1,2,3,4,5,34],[22,23,22,45,8,7]])\n",
    "print(\"first element in 1st row:\" , arr[0,0])\n",
    "print(\"last element of second row:\", arr[1,5])\n",
    "print(\"sum is:\", arr[0,0] +arr[1,5])"
   ]
  },
  {
   "cell_type": "markdown",
   "id": "56164854-4706-40cb-af40-7dad0fd8055f",
   "metadata": {},
   "source": [
    "# accessing 3-D arrays"
   ]
  },
  {
   "cell_type": "markdown",
   "id": "3757cc62-b67b-4dc3-bc7f-de8d875afbfc",
   "metadata": {},
   "source": [
    "to access element from 3-D array we can use comma seperated integers representing the dimension and the index of the element"
   ]
  },
  {
   "cell_type": "markdown",
   "id": "229320e3-d56d-4bc1-90a2-d35da70b9281",
   "metadata": {},
   "source": [
    "# accessing the third element of the second array of the first array:"
   ]
  },
  {
   "cell_type": "code",
   "execution_count": 107,
   "id": "7c87405e-c562-4275-b34e-5f7fd7601498",
   "metadata": {},
   "outputs": [
    {
     "name": "stdout",
     "output_type": "stream",
     "text": [
      "5.0\n"
     ]
    }
   ],
   "source": [
    "arr = np.array([[[1,3.2 ,2,True],[4,6,5,987]],[[4,87,90,False],[12,32,43,23]]])\n",
    "print(arr[0,1,2])"
   ]
  },
  {
   "cell_type": "code",
   "execution_count": 111,
   "id": "78208b13-b183-4f19-ba12-f7c2a5b23a71",
   "metadata": {},
   "outputs": [
    {
     "name": "stdout",
     "output_type": "stream",
     "text": [
      "87.0\n"
     ]
    }
   ],
   "source": [
    "arr = np.array([[[1,3.2 ,2,True],[4,6,5,987]],[[4,87,90,False],[12,32,43,23]]])\n",
    "print(arr[1,0,1])"
   ]
  },
  {
   "cell_type": "code",
   "execution_count": 115,
   "id": "cd3540b0-d775-48d4-83f9-e083014e6e3d",
   "metadata": {},
   "outputs": [
    {
     "name": "stdout",
     "output_type": "stream",
     "text": [
      "32.0\n"
     ]
    }
   ],
   "source": [
    "arr = np.array([[[1,3.2 ,2,True],[4,6,5,987]],[[4,87,90,False],[12,32,43,23]]])\n",
    "print(arr[1,1,1])"
   ]
  },
  {
   "cell_type": "code",
   "execution_count": 119,
   "id": "55619981-0b9c-4779-81b9-a633640860b3",
   "metadata": {},
   "outputs": [
    {
     "name": "stdout",
     "output_type": "stream",
     "text": [
      "3.2\n"
     ]
    }
   ],
   "source": [
    "arr = np.array([[[1,3.2 ,2,True],[4,6,5,987]],[[4,87,90,False],[12,32,43,23]]])\n",
    "print(arr[0,0,1])"
   ]
  },
  {
   "cell_type": "markdown",
   "id": "f15dcf2e-fb26-47de-aeb7-2b7e7feeeb8e",
   "metadata": {},
   "source": [
    "# negative indexing"
   ]
  },
  {
   "cell_type": "markdown",
   "id": "2cbdab53-2735-4049-8ad2-af95fd4d4a42",
   "metadata": {},
   "source": [
    "using negative indexing to access an array from the end."
   ]
  },
  {
   "cell_type": "code",
   "execution_count": 123,
   "id": "cd5ebd00-36bb-4326-af27-d319b063ee4c",
   "metadata": {},
   "outputs": [
    {
     "name": "stdout",
     "output_type": "stream",
     "text": [
      "last array of second dim: 7\n"
     ]
    }
   ],
   "source": [
    "arr = np.array([[1,2,3,4,5,34],[22,23,22,45,8,7]])\n",
    "print(\"last array of second dim:\" , arr[1,-1])"
   ]
  },
  {
   "cell_type": "markdown",
   "id": "7bc48245-7d50-46cd-9bef-47e243cc238d",
   "metadata": {},
   "source": [
    "# Numpy array slicing"
   ]
  },
  {
   "cell_type": "markdown",
   "id": "75a00538-e842-4e6f-a605-cece9779a404",
   "metadata": {},
   "source": [
    "slicing in python means taking element from one givin index to another iven index\n",
    "\n",
    "we pass slice instead of index like this:[start:end].\n",
    "\n",
    "we can also define the step, like this: [start:end:step]."
   ]
  },
  {
   "cell_type": "markdown",
   "id": "4808b412-92dd-4afc-a09c-a2aa7c7acea5",
   "metadata": {},
   "source": [
    "# slice element from index 1 to index 5 from the followinf array"
   ]
  },
  {
   "cell_type": "code",
   "execution_count": 130,
   "id": "865d7df3-5f5d-4542-8a68-48989ebd92dd",
   "metadata": {},
   "outputs": [
    {
     "name": "stdout",
     "output_type": "stream",
     "text": [
      "[2 3 4 5]\n"
     ]
    }
   ],
   "source": [
    "arr = np.array([1,2,3,4,5,34,22,23,22,45,8,7])\n",
    "print(arr[1:5])"
   ]
  },
  {
   "cell_type": "markdown",
   "id": "0eb28d3b-5760-465c-958f-bc44f11f6933",
   "metadata": {},
   "source": [
    "slicing element from index 4 to the end of array"
   ]
  },
  {
   "cell_type": "code",
   "execution_count": 133,
   "id": "01ce3155-aa80-4536-af83-e314bdc7e8c7",
   "metadata": {},
   "outputs": [
    {
     "name": "stdout",
     "output_type": "stream",
     "text": [
      "[ 5 34 22 23 22 45  8  7]\n"
     ]
    }
   ],
   "source": [
    "arr = np.array([1,2,3,4,5,34,22,23,22,45,8,7])\n",
    "print(arr[4:])"
   ]
  },
  {
   "cell_type": "code",
   "execution_count": 135,
   "id": "282d7018-7ea5-4668-91e9-ddc2fbc3a04f",
   "metadata": {},
   "outputs": [
    {
     "name": "stdout",
     "output_type": "stream",
     "text": [
      "[ 1  3  5 22 22  8]\n"
     ]
    }
   ],
   "source": [
    "arr = np.array([1,2,3,4,5,34,22,23,22,45,8,7])\n",
    "print(arr[::2])"
   ]
  },
  {
   "cell_type": "markdown",
   "id": "4b041fcb-754c-48bf-a192-422d493ddc9d",
   "metadata": {},
   "source": [
    "# Slicing 2-D arrays"
   ]
  },
  {
   "cell_type": "code",
   "execution_count": 138,
   "id": "d8907ad2-edf6-444a-97ee-d68da34a308b",
   "metadata": {},
   "outputs": [
    {
     "name": "stdout",
     "output_type": "stream",
     "text": [
      "[22 23 22 45]\n"
     ]
    }
   ],
   "source": [
    "arr = np.array([[1,2,3,4,5,34],[22,23,22,45,8,7]])\n",
    "print(arr[1,0:4])"
   ]
  },
  {
   "cell_type": "code",
   "execution_count": 144,
   "id": "5feb2fe2-eca8-4519-a413-7b55974ecc29",
   "metadata": {},
   "outputs": [
    {
     "name": "stdout",
     "output_type": "stream",
     "text": [
      "[2]\n"
     ]
    }
   ],
   "source": [
    "arr = np.array([[1,2,3,4,5,34],[22,23,22,45,8,7]])\n",
    "print(arr[0,1:2])"
   ]
  },
  {
   "cell_type": "code",
   "execution_count": 146,
   "id": "b705aa7d-ed0e-46df-9c3a-6ea10ade3a76",
   "metadata": {},
   "outputs": [
    {
     "name": "stdout",
     "output_type": "stream",
     "text": [
      "[1 2 3]\n"
     ]
    }
   ],
   "source": [
    "arr = np.array([[1,2,3,4,5,34],[22,23,22,45,8,7]])\n",
    "print(arr[0,0:3])"
   ]
  },
  {
   "cell_type": "markdown",
   "id": "70ebca3e-5545-40fa-a802-ff65bea1d456",
   "metadata": {},
   "source": [
    "# From both element return index 2"
   ]
  },
  {
   "cell_type": "code",
   "execution_count": 149,
   "id": "6c8f198f-5f65-4d48-ae1c-20553606334e",
   "metadata": {},
   "outputs": [
    {
     "name": "stdout",
     "output_type": "stream",
     "text": [
      "[ 3 22]\n"
     ]
    }
   ],
   "source": [
    "arr = np.array([[1,2,3,4,5,34],[22,23,22,45,8,7]])\n",
    "print(arr[0:2,2])"
   ]
  },
  {
   "cell_type": "markdown",
   "id": "6e710e99-1f2a-4345-8a7e-843bd08a8217",
   "metadata": {},
   "source": [
    "# slice index 1 to index 4 (not included), this will return a 2-D array"
   ]
  },
  {
   "cell_type": "code",
   "execution_count": 152,
   "id": "36bb480b-bca4-4de9-b74b-431ec6abbcea",
   "metadata": {},
   "outputs": [
    {
     "name": "stdout",
     "output_type": "stream",
     "text": [
      "[[ 2  3  4]\n",
      " [23 22 45]]\n"
     ]
    }
   ],
   "source": [
    "arr = np.array([[1,2,3,4,5,34],[22,23,22,45,8,7]])\n",
    "print(arr[0:2,1:4])"
   ]
  },
  {
   "cell_type": "code",
   "execution_count": null,
   "id": "136fd91c-d377-4c66-9715-98b4b449726d",
   "metadata": {},
   "outputs": [],
   "source": []
  }
 ],
 "metadata": {
  "kernelspec": {
   "display_name": "Python 3 (ipykernel)",
   "language": "python",
   "name": "python3"
  },
  "language_info": {
   "codemirror_mode": {
    "name": "ipython",
    "version": 3
   },
   "file_extension": ".py",
   "mimetype": "text/x-python",
   "name": "python",
   "nbconvert_exporter": "python",
   "pygments_lexer": "ipython3",
   "version": "3.12.7"
  }
 },
 "nbformat": 4,
 "nbformat_minor": 5
}
